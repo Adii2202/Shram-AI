{
 "cells": [
  {
   "cell_type": "code",
   "execution_count": null,
   "id": "312fe945",
   "metadata": {},
   "outputs": [
    {
     "ename": "",
     "evalue": "",
     "output_type": "error",
     "traceback": [
      "\u001b[1;31mRunning cells with 'venv (Python 3.12.4)' requires the ipykernel package.\n",
      "\u001b[1;31mInstall 'ipykernel' into the Python environment. \n",
      "\u001b[1;31mCommand: '\"c:/Users/adity/OneDrive/Desktop/Shram ai/venv/Scripts/python.exe\" -m pip install ipykernel -U --force-reinstall'"
     ]
    }
   ],
   "source": [
    "%pip install langchain transformers accelerate"
   ]
  },
  {
   "cell_type": "code",
   "execution_count": 2,
   "id": "c321d546",
   "metadata": {},
   "outputs": [],
   "source": [
    "import time\n",
    "from langchain_community.llms import Ollama\n",
    "from langchain.prompts import PromptTemplate"
   ]
  },
  {
   "cell_type": "code",
   "execution_count": 15,
   "id": "6240ec97",
   "metadata": {},
   "outputs": [],
   "source": [
    "MODELS = [\"llama3.1:8b\", \"qwen2.5:latest\", \"gemma2:2b\"]"
   ]
  },
  {
   "cell_type": "code",
   "execution_count": 9,
   "id": "c9845899",
   "metadata": {},
   "outputs": [],
   "source": [
    "PROMPTS = [\n",
    "    \"What are the differences between CPU and GPU?\",\n",
    "]"
   ]
  },
  {
   "cell_type": "code",
   "execution_count": 10,
   "id": "be972658",
   "metadata": {},
   "outputs": [],
   "source": [
    "NUM_RUNS = 3  # number of repetitions per prompt"
   ]
  },
  {
   "cell_type": "code",
   "execution_count": 11,
   "id": "02add356",
   "metadata": {},
   "outputs": [],
   "source": [
    "def benchmark_model(model_name: str):\n",
    "    print(f\"\\n⏱️ Benchmarking: {model_name}\")\n",
    "    llm = Ollama(model=model_name, temperature=0.0)\n",
    "\n",
    "    total_time = 0\n",
    "    total_tokens = 0\n",
    "    total_tasks = len(PROMPTS) * NUM_RUNS\n",
    "\n",
    "    for prompt in PROMPTS:\n",
    "        for _ in range(NUM_RUNS):\n",
    "            start = time.time()\n",
    "            response = llm.invoke(prompt)\n",
    "            end = time.time()\n",
    "\n",
    "            elapsed = end - start\n",
    "            tokens = len(prompt.split()) + len(response.split())  # rough total\n",
    "\n",
    "            total_time += elapsed\n",
    "            total_tokens += tokens\n",
    "\n",
    "    avg_time = total_time / total_tasks\n",
    "    avg_tokens = total_tokens / total_tasks\n",
    "    tpm = (avg_tokens / avg_time) * 60\n",
    "\n",
    "    print(f\"✅ Avg Time: {avg_time:.2f}s | Tokens: {avg_tokens:.2f} | TPM: {tpm:.2f}\")\n",
    "\n",
    "    # Final verdict\n",
    "    if tpm > 2500:\n",
    "        verdict = \"🚀 Excellent performance — suitable for fast local inference\"\n",
    "    elif tpm > 1500:\n",
    "        verdict = \"👍 Good performance — suitable for general use\"\n",
    "    elif tpm > 1000:\n",
    "        verdict = \"⚠️ Moderate — acceptable but may lag under load\"\n",
    "    else:\n",
    "        verdict = \"🐢 Slow — only suitable for light or occasional usage\"\n",
    "\n",
    "    return {\n",
    "        \"model\": model_name,\n",
    "        \"latency\": round(avg_time, 2),\n",
    "        \"tokens\": round(avg_tokens, 2),\n",
    "        \"tpm\": round(tpm, 2),\n",
    "        \"verdict\": verdict\n",
    "    }"
   ]
  },
  {
   "cell_type": "code",
   "execution_count": 12,
   "id": "6c6fb9b6",
   "metadata": {},
   "outputs": [],
   "source": [
    "def main():\n",
    "    results = []\n",
    "    for model in MODELS:\n",
    "        try:\n",
    "            result = benchmark_model(model)\n",
    "            results.append(result)\n",
    "        except Exception as e:\n",
    "            print(f\"❌ {model} failed: {e}\")\n",
    "\n",
    "    print(\"\\n📊 Benchmark Summary:\\n\")\n",
    "    for r in results:\n",
    "        print(f\"{r['model']}:\\n\"\n",
    "              f\"   ⏱ Avg Latency: {r['latency']}s\\n\"\n",
    "              f\"   🧠 Avg Tokens: {r['tokens']}\\n\"\n",
    "              f\"   🚦 TPM: {r['tpm']}\\n\"\n",
    "              f\"   ✅ Verdict: {r['verdict']}\\n\")"
   ]
  },
  {
   "cell_type": "code",
   "execution_count": 16,
   "id": "8a650fa4",
   "metadata": {},
   "outputs": [
    {
     "name": "stdout",
     "output_type": "stream",
     "text": [
      "\n",
      "⏱️ Benchmarking: llama3.1:8b\n",
      "✅ Avg Time: 72.09s | Tokens: 345.33 | TPM: 287.40\n",
      "\n",
      "⏱️ Benchmarking: qwen2.5:latest\n",
      "✅ Avg Time: 74.10s | Tokens: 385.67 | TPM: 312.29\n",
      "\n",
      "⏱️ Benchmarking: gemma2:2b\n",
      "✅ Avg Time: 38.79s | Tokens: 384.33 | TPM: 594.46\n",
      "\n",
      "📊 Benchmark Summary:\n",
      "\n",
      "llama3.1:8b:\n",
      "   ⏱ Avg Latency: 72.09s\n",
      "   🧠 Avg Tokens: 345.33\n",
      "   🚦 TPM: 287.4\n",
      "   ✅ Verdict: 🐢 Slow — only suitable for light or occasional usage\n",
      "\n",
      "qwen2.5:latest:\n",
      "   ⏱ Avg Latency: 74.1s\n",
      "   🧠 Avg Tokens: 385.67\n",
      "   🚦 TPM: 312.29\n",
      "   ✅ Verdict: 🐢 Slow — only suitable for light or occasional usage\n",
      "\n",
      "gemma2:2b:\n",
      "   ⏱ Avg Latency: 38.79s\n",
      "   🧠 Avg Tokens: 384.33\n",
      "   🚦 TPM: 594.46\n",
      "   ✅ Verdict: 🐢 Slow — only suitable for light or occasional usage\n",
      "\n"
     ]
    }
   ],
   "source": [
    "if __name__ == \"__main__\":\n",
    "    main()"
   ]
  }
 ],
 "metadata": {
  "kernelspec": {
   "display_name": "venv",
   "language": "python",
   "name": "python3"
  },
  "language_info": {
   "codemirror_mode": {
    "name": "ipython",
    "version": 3
   },
   "file_extension": ".py",
   "mimetype": "text/x-python",
   "name": "python",
   "nbconvert_exporter": "python",
   "pygments_lexer": "ipython3",
   "version": "3.12.4"
  }
 },
 "nbformat": 4,
 "nbformat_minor": 5
}
